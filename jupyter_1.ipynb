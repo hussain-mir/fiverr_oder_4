{
 "cells": [
  {
   "cell_type": "code",
   "execution_count": 1,
   "id": "220ebf0f",
   "metadata": {},
   "outputs": [],
   "source": [
    "import pandas as pd\n",
    "import seaborn as sns"
   ]
  },
  {
   "cell_type": "code",
   "execution_count": 3,
   "id": "e1216e6e",
   "metadata": {},
   "outputs": [
    {
     "data": {
      "text/plain": [
       "<AxesSubplot:xlabel='action', ylabel='count'>"
      ]
     },
     "execution_count": 3,
     "metadata": {},
     "output_type": "execute_result"
    },
    {
     "data": {
      "image/png": "[encoded data removed]",
      "text/plain": [
       "<Figure size 432x288 with 1 Axes>"
      ]
     },
     "metadata": {
      "needs_background": "light"
     },
     "output_type": "display_data"
    }
   ],
   "source": [
    "df=pd.read_csv(r\"C:\\Users\\FTC\\Desktop\\oder_4\\danielle_ed_actively.csv\")\n",
    "\n",
    "sns.countplot(x='action', data=df)"
   ]
  },
  {
   "cell_type": "code",
   "execution_count": 6,
   "id": "60875ae5",
   "metadata": {},
   "outputs": [
    {
     "name": "stdout",
     "output_type": "stream",
     "text": [
      "<class 'pandas.core.frame.DataFrame'>\n",
      "RangeIndex: 4384 entries, 0 to 4383\n",
      "Data columns (total 5 columns):\n",
      " #   Column    Non-Null Count  Dtype  \n",
      "---  ------    --------------  -----  \n",
      " 0   date      4384 non-null   object \n",
      " 1   username  4384 non-null   object \n",
      " 2   action    4384 non-null   object \n",
      " 3   source    4384 non-null   object \n",
      " 4   extra     0 non-null      float64\n",
      "dtypes: float64(1), object(4)\n",
      "memory usage: 171.4+ KB\n"
     ]
    }
   ],
   "source": [
    "df.info()"
   ]
  },
  {
   "cell_type": "code",
   "execution_count": 7,
   "id": "86be12fc",
   "metadata": {},
   "outputs": [],
   "source": [
    "df['date']=pd.to_datetime(df['date'])"
   ]
  },
  {
   "cell_type": "code",
   "execution_count": 8,
   "id": "dea3fe01",
   "metadata": {},
   "outputs": [
    {
     "data": {
      "text/plain": [
       "0       2021-12-11\n",
       "1       2021-12-11\n",
       "2       2021-12-11\n",
       "3       2021-12-11\n",
       "4       2021-12-11\n",
       "           ...    \n",
       "4379    2022-01-14\n",
       "4380    2022-01-14\n",
       "4381    2022-01-14\n",
       "4382    2022-01-14\n",
       "4383    2022-01-14\n",
       "Name: date, Length: 4384, dtype: object"
      ]
     },
     "execution_count": 8,
     "metadata": {},
     "output_type": "execute_result"
    }
   ],
   "source": [
    "df['date'].dt.date"
   ]
  },
  {
   "cell_type": "code",
   "execution_count": 9,
   "id": "491cb390",
   "metadata": {},
   "outputs": [],
   "source": [
    "df['Date_1']=df['date'].dt.date"
   ]
  },
  {
   "cell_type": "code",
   "execution_count": 73,
   "id": "906ea4ed",
   "metadata": {},
   "outputs": [],
   "source": [
    "# x"
   ]
  },
  {
   "cell_type": "code",
   "execution_count": 10,
   "id": "c4baa311",
   "metadata": {},
   "outputs": [
    {
     "data": {
      "text/plain": [
       "<AxesSubplot:xlabel='Date_1', ylabel='count'>"
      ]
     },
     "execution_count": 10,
     "metadata": {},
     "output_type": "execute_result"
    },
    {
     "data": {
      "image/png": "[encoded data removed]",
      "text/plain": [
       "<Figure size 432x288 with 1 Axes>"
      ]
     },
     "metadata": {
      "needs_background": "light"
     },
     "output_type": "display_data"
    }
   ],
   "source": [
    "sns.countplot(x='Date_1', data=df)"
   ]
  },
  {
   "cell_type": "code",
   "execution_count": 12,
   "id": "83bfef30",
   "metadata": {},
   "outputs": [
    {
     "data": {
      "text/html": [
       "<div>\n",
       "<style scoped>\n",
       "    .dataframe tbody tr th:only-of-type {\n",
       "        vertical-align: middle;\n",
       "    }\n",
       "\n",
       "    .dataframe tbody tr th {\n",
       "        vertical-align: top;\n",
       "    }\n",
       "\n",
       "    .dataframe thead th {\n",
       "        text-align: right;\n",
       "    }\n",
       "</style>\n",
       "<table border=\"1\" class=\"dataframe\">\n",
       "  <thead>\n",
       "    <tr style=\"text-align: right;\">\n",
       "      <th></th>\n",
       "      <th>date</th>\n",
       "      <th>username</th>\n",
       "      <th>action</th>\n",
       "      <th>source</th>\n",
       "      <th>extra</th>\n",
       "    </tr>\n",
       "    <tr>\n",
       "      <th>Date_1</th>\n",
       "      <th></th>\n",
       "      <th></th>\n",
       "      <th></th>\n",
       "      <th></th>\n",
       "      <th></th>\n",
       "    </tr>\n",
       "  </thead>\n",
       "  <tbody>\n",
       "    <tr>\n",
       "      <th>2021-12-11</th>\n",
       "      <td>2021-12-11 18:03:48</td>\n",
       "      <td>houseliftdesign</td>\n",
       "      <td>liked</td>\n",
       "      <td>feed</td>\n",
       "      <td>NaN</td>\n",
       "    </tr>\n",
       "    <tr>\n",
       "      <th>2021-12-11</th>\n",
       "      <td>2021-12-11 18:10:36</td>\n",
       "      <td>galitalush</td>\n",
       "      <td>followedPrivate</td>\n",
       "      <td>('interact_by_users', 'specific_user')</td>\n",
       "      <td>NaN</td>\n",
       "    </tr>\n",
       "    <tr>\n",
       "      <th>2021-12-11</th>\n",
       "      <td>2021-12-11 18:17:48</td>\n",
       "      <td>sergey_yakov_grits</td>\n",
       "      <td>followed</td>\n",
       "      <td>('interact_by_users', 'specific_user')</td>\n",
       "      <td>NaN</td>\n",
       "    </tr>\n",
       "  </tbody>\n",
       "</table>\n",
       "</div>"
      ],
      "text/plain": [
       "                          date            username           action  \\\n",
       "Date_1                                                                \n",
       "2021-12-11 2021-12-11 18:03:48     houseliftdesign            liked   \n",
       "2021-12-11 2021-12-11 18:10:36          galitalush  followedPrivate   \n",
       "2021-12-11 2021-12-11 18:17:48  sergey_yakov_grits         followed   \n",
       "\n",
       "                                            source  extra  \n",
       "Date_1                                                     \n",
       "2021-12-11                                    feed    NaN  \n",
       "2021-12-11  ('interact_by_users', 'specific_user')    NaN  \n",
       "2021-12-11  ('interact_by_users', 'specific_user')    NaN  "
      ]
     },
     "execution_count": 12,
     "metadata": {},
     "output_type": "execute_result"
    }
   ],
   "source": [
    "df=df.set_index('Date_1')\n",
    "df.head(3)"
   ]
  },
  {
   "cell_type": "code",
   "execution_count": 13,
   "id": "acb55d40",
   "metadata": {},
   "outputs": [
    {
     "name": "stdout",
     "output_type": "stream",
     "text": [
      "<class 'pandas.core.frame.DataFrame'>\n",
      "Index: 4384 entries, 2021-12-11 to 2022-01-14\n",
      "Data columns (total 5 columns):\n",
      " #   Column    Non-Null Count  Dtype         \n",
      "---  ------    --------------  -----         \n",
      " 0   date      4384 non-null   datetime64[ns]\n",
      " 1   username  4384 non-null   object        \n",
      " 2   action    4384 non-null   object        \n",
      " 3   source    4384 non-null   object        \n",
      " 4   extra     0 non-null      float64       \n",
      "dtypes: datetime64[ns](1), float64(1), object(3)\n",
      "memory usage: 205.5+ KB\n"
     ]
    }
   ],
   "source": [
    "df.info()\n"
   ]
  },
  {
   "cell_type": "code",
   "execution_count": 14,
   "id": "f2b46e01",
   "metadata": {},
   "outputs": [],
   "source": [
    "# df['Date_1']=pd.to_datetime(df['Date_1'])"
   ]
  },
  {
   "cell_type": "code",
   "execution_count": 15,
   "id": "de620bc5",
   "metadata": {},
   "outputs": [
    {
     "data": {
      "text/html": [
       "<div>\n",
       "<style scoped>\n",
       "    .dataframe tbody tr th:only-of-type {\n",
       "        vertical-align: middle;\n",
       "    }\n",
       "\n",
       "    .dataframe tbody tr th {\n",
       "        vertical-align: top;\n",
       "    }\n",
       "\n",
       "    .dataframe thead th {\n",
       "        text-align: right;\n",
       "    }\n",
       "</style>\n",
       "<table border=\"1\" class=\"dataframe\">\n",
       "  <thead>\n",
       "    <tr style=\"text-align: right;\">\n",
       "      <th></th>\n",
       "      <th>date</th>\n",
       "      <th>username</th>\n",
       "      <th>action</th>\n",
       "      <th>source</th>\n",
       "      <th>extra</th>\n",
       "    </tr>\n",
       "    <tr>\n",
       "      <th>Date_1</th>\n",
       "      <th></th>\n",
       "      <th></th>\n",
       "      <th></th>\n",
       "      <th></th>\n",
       "      <th></th>\n",
       "    </tr>\n",
       "  </thead>\n",
       "  <tbody>\n",
       "    <tr>\n",
       "      <th>2021-12-11</th>\n",
       "      <td>2021-12-11 18:10:36</td>\n",
       "      <td>galitalush</td>\n",
       "      <td>followedPrivate</td>\n",
       "      <td>('interact_by_users', 'specific_user')</td>\n",
       "      <td>NaN</td>\n",
       "    </tr>\n",
       "    <tr>\n",
       "      <th>2021-12-11</th>\n",
       "      <td>2021-12-11 18:17:48</td>\n",
       "      <td>sergey_yakov_grits</td>\n",
       "      <td>followed</td>\n",
       "      <td>('interact_by_users', 'specific_user')</td>\n",
       "      <td>NaN</td>\n",
       "    </tr>\n",
       "    <tr>\n",
       "      <th>2021-12-11</th>\n",
       "      <td>2021-12-11 18:18:44</td>\n",
       "      <td>orllyhrel</td>\n",
       "      <td>followed</td>\n",
       "      <td>('interact_by_users', 'specific_user')</td>\n",
       "      <td>NaN</td>\n",
       "    </tr>\n",
       "    <tr>\n",
       "      <th>2021-12-11</th>\n",
       "      <td>2021-12-11 18:29:09</td>\n",
       "      <td>kaf_tmarim_</td>\n",
       "      <td>followed</td>\n",
       "      <td>('interact_by_users', 'liatkelman')</td>\n",
       "      <td>NaN</td>\n",
       "    </tr>\n",
       "    <tr>\n",
       "      <th>2021-12-11</th>\n",
       "      <td>2021-12-11 18:31:26</td>\n",
       "      <td>dina_tsemach</td>\n",
       "      <td>followed</td>\n",
       "      <td>('follow_user_followers', 'liatkelman')</td>\n",
       "      <td>NaN</td>\n",
       "    </tr>\n",
       "    <tr>\n",
       "      <th>2021-12-11</th>\n",
       "      <td>2021-12-11 19:35:19</td>\n",
       "      <td>shirazosnat</td>\n",
       "      <td>followed</td>\n",
       "      <td>('interact_by_users', 'specific_user')</td>\n",
       "      <td>NaN</td>\n",
       "    </tr>\n",
       "  </tbody>\n",
       "</table>\n",
       "</div>"
      ],
      "text/plain": [
       "                          date            username           action  \\\n",
       "Date_1                                                                \n",
       "2021-12-11 2021-12-11 18:10:36          galitalush  followedPrivate   \n",
       "2021-12-11 2021-12-11 18:17:48  sergey_yakov_grits         followed   \n",
       "2021-12-11 2021-12-11 18:18:44           orllyhrel         followed   \n",
       "2021-12-11 2021-12-11 18:29:09         kaf_tmarim_         followed   \n",
       "2021-12-11 2021-12-11 18:31:26        dina_tsemach         followed   \n",
       "2021-12-11 2021-12-11 19:35:19         shirazosnat         followed   \n",
       "\n",
       "                                             source  extra  \n",
       "Date_1                                                      \n",
       "2021-12-11   ('interact_by_users', 'specific_user')    NaN  \n",
       "2021-12-11   ('interact_by_users', 'specific_user')    NaN  \n",
       "2021-12-11   ('interact_by_users', 'specific_user')    NaN  \n",
       "2021-12-11      ('interact_by_users', 'liatkelman')    NaN  \n",
       "2021-12-11  ('follow_user_followers', 'liatkelman')    NaN  \n",
       "2021-12-11   ('interact_by_users', 'specific_user')    NaN  "
      ]
     },
     "execution_count": 15,
     "metadata": {},
     "output_type": "execute_result"
    }
   ],
   "source": [
    "df.iloc[1:7]"
   ]
  },
  {
   "cell_type": "code",
   "execution_count": 16,
   "id": "0a10de8f",
   "metadata": {},
   "outputs": [
    {
     "name": "stdout",
     "output_type": "stream",
     "text": [
      "<class 'pandas.core.frame.DataFrame'>\n",
      "Index: 4384 entries, 2021-12-11 to 2022-01-14\n",
      "Data columns (total 5 columns):\n",
      " #   Column    Non-Null Count  Dtype         \n",
      "---  ------    --------------  -----         \n",
      " 0   date      4384 non-null   datetime64[ns]\n",
      " 1   username  4384 non-null   object        \n",
      " 2   action    4384 non-null   object        \n",
      " 3   source    4384 non-null   object        \n",
      " 4   extra     0 non-null      float64       \n",
      "dtypes: datetime64[ns](1), float64(1), object(3)\n",
      "memory usage: 205.5+ KB\n"
     ]
    }
   ],
   "source": [
    "df.info()"
   ]
  },
  {
   "cell_type": "code",
   "execution_count": null,
   "id": "443efc0e",
   "metadata": {},
   "outputs": [],
   "source": []
  },
  {
   "cell_type": "code",
   "execution_count": 17,
   "id": "bde2315d",
   "metadata": {},
   "outputs": [
    {
     "data": {
      "text/html": [
       "<div>\n",
       "<style scoped>\n",
       "    .dataframe tbody tr th:only-of-type {\n",
       "        vertical-align: middle;\n",
       "    }\n",
       "\n",
       "    .dataframe tbody tr th {\n",
       "        vertical-align: top;\n",
       "    }\n",
       "\n",
       "    .dataframe thead th {\n",
       "        text-align: right;\n",
       "    }\n",
       "</style>\n",
       "<table border=\"1\" class=\"dataframe\">\n",
       "  <thead>\n",
       "    <tr style=\"text-align: right;\">\n",
       "      <th></th>\n",
       "      <th>date</th>\n",
       "      <th>username</th>\n",
       "      <th>action</th>\n",
       "      <th>source</th>\n",
       "      <th>extra</th>\n",
       "    </tr>\n",
       "    <tr>\n",
       "      <th>Date_1</th>\n",
       "      <th></th>\n",
       "      <th></th>\n",
       "      <th></th>\n",
       "      <th></th>\n",
       "      <th></th>\n",
       "    </tr>\n",
       "  </thead>\n",
       "  <tbody>\n",
       "    <tr>\n",
       "      <th>2021-12-11</th>\n",
       "      <td>2021-12-11 18:03:48</td>\n",
       "      <td>houseliftdesign</td>\n",
       "      <td>liked</td>\n",
       "      <td>feed</td>\n",
       "      <td>NaN</td>\n",
       "    </tr>\n",
       "    <tr>\n",
       "      <th>2021-12-11</th>\n",
       "      <td>2021-12-11 18:10:36</td>\n",
       "      <td>galitalush</td>\n",
       "      <td>followedPrivate</td>\n",
       "      <td>('interact_by_users', 'specific_user')</td>\n",
       "      <td>NaN</td>\n",
       "    </tr>\n",
       "    <tr>\n",
       "      <th>2021-12-11</th>\n",
       "      <td>2021-12-11 18:17:48</td>\n",
       "      <td>sergey_yakov_grits</td>\n",
       "      <td>followed</td>\n",
       "      <td>('interact_by_users', 'specific_user')</td>\n",
       "      <td>NaN</td>\n",
       "    </tr>\n",
       "    <tr>\n",
       "      <th>2021-12-11</th>\n",
       "      <td>2021-12-11 18:18:44</td>\n",
       "      <td>orllyhrel</td>\n",
       "      <td>followed</td>\n",
       "      <td>('interact_by_users', 'specific_user')</td>\n",
       "      <td>NaN</td>\n",
       "    </tr>\n",
       "    <tr>\n",
       "      <th>2021-12-11</th>\n",
       "      <td>2021-12-11 18:29:09</td>\n",
       "      <td>kaf_tmarim_</td>\n",
       "      <td>followed</td>\n",
       "      <td>('interact_by_users', 'liatkelman')</td>\n",
       "      <td>NaN</td>\n",
       "    </tr>\n",
       "    <tr>\n",
       "      <th>...</th>\n",
       "      <td>...</td>\n",
       "      <td>...</td>\n",
       "      <td>...</td>\n",
       "      <td>...</td>\n",
       "      <td>...</td>\n",
       "    </tr>\n",
       "    <tr>\n",
       "      <th>2022-01-14</th>\n",
       "      <td>2022-01-14 13:34:53</td>\n",
       "      <td>yossr750</td>\n",
       "      <td>followed</td>\n",
       "      <td>('interact_by_users', 'specific_user')</td>\n",
       "      <td>NaN</td>\n",
       "    </tr>\n",
       "    <tr>\n",
       "      <th>2022-01-14</th>\n",
       "      <td>2022-01-14 13:37:04</td>\n",
       "      <td>orlykinan</td>\n",
       "      <td>unfollowed</td>\n",
       "      <td>unfollow_user</td>\n",
       "      <td>NaN</td>\n",
       "    </tr>\n",
       "    <tr>\n",
       "      <th>2022-01-14</th>\n",
       "      <td>2022-01-14 13:38:53</td>\n",
       "      <td>hani_cohen1</td>\n",
       "      <td>unfollowed</td>\n",
       "      <td>unfollow_user</td>\n",
       "      <td>NaN</td>\n",
       "    </tr>\n",
       "    <tr>\n",
       "      <th>2022-01-14</th>\n",
       "      <td>2022-01-14 13:46:52</td>\n",
       "      <td>inballev</td>\n",
       "      <td>followed</td>\n",
       "      <td>('interact_by_users', 'specific_user')</td>\n",
       "      <td>NaN</td>\n",
       "    </tr>\n",
       "    <tr>\n",
       "      <th>2022-01-14</th>\n",
       "      <td>2022-01-14 13:48:04</td>\n",
       "      <td>sigalace</td>\n",
       "      <td>followedPrivate</td>\n",
       "      <td>('interact_by_users', 'specific_user')</td>\n",
       "      <td>NaN</td>\n",
       "    </tr>\n",
       "  </tbody>\n",
       "</table>\n",
       "<p>4384 rows × 5 columns</p>\n",
       "</div>"
      ],
      "text/plain": [
       "                          date            username           action  \\\n",
       "Date_1                                                                \n",
       "2021-12-11 2021-12-11 18:03:48     houseliftdesign            liked   \n",
       "2021-12-11 2021-12-11 18:10:36          galitalush  followedPrivate   \n",
       "2021-12-11 2021-12-11 18:17:48  sergey_yakov_grits         followed   \n",
       "2021-12-11 2021-12-11 18:18:44           orllyhrel         followed   \n",
       "2021-12-11 2021-12-11 18:29:09         kaf_tmarim_         followed   \n",
       "...                        ...                 ...              ...   \n",
       "2022-01-14 2022-01-14 13:34:53            yossr750         followed   \n",
       "2022-01-14 2022-01-14 13:37:04           orlykinan       unfollowed   \n",
       "2022-01-14 2022-01-14 13:38:53         hani_cohen1       unfollowed   \n",
       "2022-01-14 2022-01-14 13:46:52            inballev         followed   \n",
       "2022-01-14 2022-01-14 13:48:04            sigalace  followedPrivate   \n",
       "\n",
       "                                            source  extra  \n",
       "Date_1                                                     \n",
       "2021-12-11                                    feed    NaN  \n",
       "2021-12-11  ('interact_by_users', 'specific_user')    NaN  \n",
       "2021-12-11  ('interact_by_users', 'specific_user')    NaN  \n",
       "2021-12-11  ('interact_by_users', 'specific_user')    NaN  \n",
       "2021-12-11     ('interact_by_users', 'liatkelman')    NaN  \n",
       "...                                            ...    ...  \n",
       "2022-01-14  ('interact_by_users', 'specific_user')    NaN  \n",
       "2022-01-14                           unfollow_user    NaN  \n",
       "2022-01-14                           unfollow_user    NaN  \n",
       "2022-01-14  ('interact_by_users', 'specific_user')    NaN  \n",
       "2022-01-14  ('interact_by_users', 'specific_user')    NaN  \n",
       "\n",
       "[4384 rows x 5 columns]"
      ]
     },
     "execution_count": 17,
     "metadata": {},
     "output_type": "execute_result"
    }
   ],
   "source": [
    "df"
   ]
  },
  {
   "cell_type": "code",
   "execution_count": null,
   "id": "bb990671",
   "metadata": {},
   "outputs": [],
   "source": []
  },
  {
   "cell_type": "code",
   "execution_count": 18,
   "id": "90372221",
   "metadata": {},
   "outputs": [
    {
     "name": "stdout",
     "output_type": "stream",
     "text": [
      "<class 'pandas.core.frame.DataFrame'>\n",
      "Index: 4384 entries, 2021-12-11 to 2022-01-14\n",
      "Data columns (total 5 columns):\n",
      " #   Column    Non-Null Count  Dtype         \n",
      "---  ------    --------------  -----         \n",
      " 0   date      4384 non-null   datetime64[ns]\n",
      " 1   username  4384 non-null   object        \n",
      " 2   action    4384 non-null   object        \n",
      " 3   source    4384 non-null   object        \n",
      " 4   extra     0 non-null      float64       \n",
      "dtypes: datetime64[ns](1), float64(1), object(3)\n",
      "memory usage: 205.5+ KB\n"
     ]
    }
   ],
   "source": [
    "df.info()"
   ]
  },
  {
   "cell_type": "code",
   "execution_count": 19,
   "id": "d2d953ef",
   "metadata": {},
   "outputs": [],
   "source": [
    "df['Date_1']=pd.to_datetime(df['date'])"
   ]
  },
  {
   "cell_type": "code",
   "execution_count": 20,
   "id": "957d5c84",
   "metadata": {},
   "outputs": [
    {
     "name": "stdout",
     "output_type": "stream",
     "text": [
      "<class 'pandas.core.frame.DataFrame'>\n",
      "Index: 4384 entries, 2021-12-11 to 2022-01-14\n",
      "Data columns (total 6 columns):\n",
      " #   Column    Non-Null Count  Dtype         \n",
      "---  ------    --------------  -----         \n",
      " 0   date      4384 non-null   datetime64[ns]\n",
      " 1   username  4384 non-null   object        \n",
      " 2   action    4384 non-null   object        \n",
      " 3   source    4384 non-null   object        \n",
      " 4   extra     0 non-null      float64       \n",
      " 5   Date_1    4384 non-null   datetime64[ns]\n",
      "dtypes: datetime64[ns](2), float64(1), object(3)\n",
      "memory usage: 239.8+ KB\n"
     ]
    }
   ],
   "source": [
    "# df.info()"
   ]
  },
  {
   "cell_type": "code",
   "execution_count": 38,
   "id": "b8a25d9c",
   "metadata": {},
   "outputs": [
    {
     "data": {
      "text/plain": [
       "Date_1\n",
       "2021-12-11    2021-12-11\n",
       "2021-12-11    2021-12-11\n",
       "2021-12-11    2021-12-11\n",
       "2021-12-11    2021-12-11\n",
       "2021-12-11    2021-12-11\n",
       "                 ...    \n",
       "2022-01-14    2022-01-14\n",
       "2022-01-14    2022-01-14\n",
       "2022-01-14    2022-01-14\n",
       "2022-01-14    2022-01-14\n",
       "2022-01-14    2022-01-14\n",
       "Name: Date_1, Length: 4384, dtype: object"
      ]
     },
     "execution_count": 38,
     "metadata": {},
     "output_type": "execute_result"
    }
   ],
   "source": [
    "df['Date_1'].dt.date"
   ]
  },
  {
   "cell_type": "code",
   "execution_count": 39,
   "id": "8f5948a9",
   "metadata": {},
   "outputs": [],
   "source": [
    "# df.loc['20211214':'20211218',['action']]"
   ]
  },
  {
   "cell_type": "code",
   "execution_count": 40,
   "id": "cea313fc",
   "metadata": {},
   "outputs": [],
   "source": [
    "# df.loc[['2021-12-11'],['action']]"
   ]
  },
  {
   "cell_type": "code",
   "execution_count": 41,
   "id": "41295530",
   "metadata": {},
   "outputs": [
    {
     "data": {
      "text/plain": [
       "Index([2021-12-11, 2021-12-11, 2021-12-11, 2021-12-11, 2021-12-11, 2021-12-11,\n",
       "       2021-12-11, 2021-12-11, 2021-12-11, 2021-12-11,\n",
       "       ...\n",
       "       2022-01-14, 2022-01-14, 2022-01-14, 2022-01-14, 2022-01-14, 2022-01-14,\n",
       "       2022-01-14, 2022-01-14, 2022-01-14, 2022-01-14],\n",
       "      dtype='object', name='Date_1', length=4384)"
      ]
     },
     "execution_count": 41,
     "metadata": {},
     "output_type": "execute_result"
    }
   ],
   "source": [
    "df.index"
   ]
  },
  {
   "cell_type": "code",
   "execution_count": 42,
   "id": "a5f0e607",
   "metadata": {},
   "outputs": [],
   "source": [
    "# df[2021-12-11]"
   ]
  },
  {
   "cell_type": "code",
   "execution_count": 43,
   "id": "174271e1",
   "metadata": {},
   "outputs": [],
   "source": [
    "df['Date_1']=pd.to_datetime(df['date'])"
   ]
  },
  {
   "cell_type": "code",
   "execution_count": 46,
   "id": "dea903ef",
   "metadata": {},
   "outputs": [],
   "source": [
    "# df.loc['2021111214':'2021111218',['action']]"
   ]
  },
  {
   "cell_type": "code",
   "execution_count": 95,
   "id": "3b203c07",
   "metadata": {},
   "outputs": [],
   "source": [
    "ts=pd.to_datetime('14/12/2021')\n",
    "ts1=pd.to_datetime('18/2/2022')"
   ]
  },
  {
   "cell_type": "code",
   "execution_count": 96,
   "id": "003db7c0",
   "metadata": {},
   "outputs": [],
   "source": [
    "df3=df.loc[(df['date']>ts)&(df['date']<ts1)]"
   ]
  },
  {
   "cell_type": "code",
   "execution_count": 97,
   "id": "2330ea7c",
   "metadata": {},
   "outputs": [
    {
     "data": {
      "text/plain": [
       "Timestamp('2022-01-14 13:48:04')"
      ]
     },
     "execution_count": 97,
     "metadata": {},
     "output_type": "execute_result"
    }
   ],
   "source": [
    "df.date.max()"
   ]
  },
  {
   "cell_type": "code",
   "execution_count": 98,
   "id": "3e3cf2e6",
   "metadata": {},
   "outputs": [
    {
     "data": {
      "text/plain": [
       "Timestamp('2021-12-11 18:03:48')"
      ]
     },
     "execution_count": 98,
     "metadata": {},
     "output_type": "execute_result"
    }
   ],
   "source": [
    "df.date.min()"
   ]
  },
  {
   "cell_type": "code",
   "execution_count": 99,
   "id": "c7cb9cb4",
   "metadata": {},
   "outputs": [
    {
     "data": {
      "text/plain": [
       "Timedelta('33 days 19:44:16')"
      ]
     },
     "execution_count": 99,
     "metadata": {},
     "output_type": "execute_result"
    }
   ],
   "source": [
    "df.date.max()-df.date.min()"
   ]
  },
  {
   "cell_type": "code",
   "execution_count": 100,
   "id": "62b7cb98",
   "metadata": {},
   "outputs": [
    {
     "data": {
      "text/plain": [
       "33"
      ]
     },
     "execution_count": 100,
     "metadata": {},
     "output_type": "execute_result"
    }
   ],
   "source": [
    "(df.date.max()-df.date.min()).days"
   ]
  },
  {
   "cell_type": "code",
   "execution_count": 101,
   "id": "7cfc543e",
   "metadata": {},
   "outputs": [
    {
     "data": {
      "text/plain": [
       "<AxesSubplot:xlabel='action', ylabel='count'>"
      ]
     },
     "execution_count": 101,
     "metadata": {},
     "output_type": "execute_result"
    },
    {
     "data": {
      "image/png": "[encoded data removed]",
      "text/plain": [
       "<Figure size 432x288 with 1 Axes>"
      ]
     },
     "metadata": {
      "needs_background": "light"
     },
     "output_type": "display_data"
    }
   ],
   "source": [
    "sns.countplot(x='action', data=df3)"
   ]
  },
  {
   "cell_type": "code",
   "execution_count": null,
   "id": "fa733b62",
   "metadata": {},
   "outputs": [],
   "source": []
  },
  {
   "cell_type": "code",
   "execution_count": null,
   "id": "a8a33ba9",
   "metadata": {},
   "outputs": [],
   "source": []
  }
 ],
 "metadata": {
  "kernelspec": {
   "display_name": "Python 3",
   "language": "python",
   "name": "python3"
  },
  "language_info": {
   "codemirror_mode": {
    "name": "ipython",
    "version": 3
   },
   "file_extension": ".py",
   "mimetype": "text/x-python",
   "name": "python",
   "nbconvert_exporter": "python",
   "pygments_lexer": "ipython3",
   "version": "3.8.8"
  }
 },
 "nbformat": 4,
 "nbformat_minor": 5
}
