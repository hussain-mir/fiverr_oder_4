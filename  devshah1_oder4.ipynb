{
 "cells": [
  {
   "cell_type": "code",
   "execution_count": 14,
   "id": "9247396d",
   "metadata": {},
   "outputs": [
    {
     "data": {
      "text/plain": [
       "<AxesSubplot:xlabel='action', ylabel='count'>"
      ]
     },
     "execution_count": 14,
     "metadata": {},
     "output_type": "execute_result"
    },
    {
     "data": {
      "image/png": "[encoded data removed]",
      "text/plain": [
       "<Figure size 432x288 with 1 Axes>"
      ]
     },
     "metadata": {
      "needs_background": "light"
     },
     "output_type": "display_data"
    }
   ],
   "source": [
    "import pandas as pd\n",
    "import seaborn as sns\n",
    "df=pd.read_csv(r\"C:\\Users\\FTC\\Desktop\\oder_4\\danielle_ed_actively.csv\")\n",
    "\n",
    "sns.countplot(x='action', data=df)"
   ]
  },
  {
   "cell_type": "code",
   "execution_count": 15,
   "id": "16f023f0",
   "metadata": {},
   "outputs": [
    {
     "data": {
      "text/plain": [
       "0       2021-12-11\n",
       "1       2021-12-11\n",
       "2       2021-12-11\n",
       "3       2021-12-11\n",
       "4       2021-12-11\n",
       "           ...    \n",
       "4379    2022-01-14\n",
       "4380    2022-01-14\n",
       "4381    2022-01-14\n",
       "4382    2022-01-14\n",
       "4383    2022-01-14\n",
       "Name: date, Length: 4384, dtype: object"
      ]
     },
     "execution_count": 15,
     "metadata": {},
     "output_type": "execute_result"
    }
   ],
   "source": [
    "df['date']=pd.to_datetime(df['date'])\n",
    "df['date'].dt.date"
   ]
  },
  {
   "cell_type": "code",
   "execution_count": 16,
   "id": "84f938c7",
   "metadata": {},
   "outputs": [],
   "source": [
    "# df.info()"
   ]
  },
  {
   "cell_type": "code",
   "execution_count": 17,
   "id": "ed2f4291",
   "metadata": {},
   "outputs": [
    {
     "data": {
      "text/plain": [
       "Timestamp('2022-01-14 13:48:04')"
      ]
     },
     "execution_count": 17,
     "metadata": {},
     "output_type": "execute_result"
    }
   ],
   "source": [
    "df.date.max()"
   ]
  },
  {
   "cell_type": "code",
   "execution_count": 18,
   "id": "49848fee",
   "metadata": {},
   "outputs": [
    {
     "data": {
      "text/plain": [
       "Timestamp('2021-12-11 18:03:48')"
      ]
     },
     "execution_count": 18,
     "metadata": {},
     "output_type": "execute_result"
    }
   ],
   "source": [
    "df.date.min()"
   ]
  },
  {
   "cell_type": "code",
   "execution_count": 19,
   "id": "3f679bf2",
   "metadata": {},
   "outputs": [
    {
     "data": {
      "text/plain": [
       "Timedelta('33 days 19:44:16')"
      ]
     },
     "execution_count": 19,
     "metadata": {},
     "output_type": "execute_result"
    }
   ],
   "source": [
    "df.date.max()-df.date.min()"
   ]
  },
  {
   "cell_type": "code",
   "execution_count": 20,
   "id": "1365b3eb",
   "metadata": {},
   "outputs": [
    {
     "data": {
      "text/plain": [
       "33"
      ]
     },
     "execution_count": 20,
     "metadata": {},
     "output_type": "execute_result"
    }
   ],
   "source": [
    "(df.date.max()-df.date.min()).days"
   ]
  },
  {
   "cell_type": "code",
   "execution_count": 26,
   "id": "cf9a1904",
   "metadata": {},
   "outputs": [],
   "source": [
    "ts=pd.to_datetime('14/12/2021')\n",
    "ts1=pd.to_datetime('13/2/2022')"
   ]
  },
  {
   "cell_type": "code",
   "execution_count": null,
   "id": "99b62693",
   "metadata": {},
   "outputs": [],
   "source": [
    "df3=df.loc[(df['date']>ts)&(df['date']<ts1)]"
   ]
  },
  {
   "cell_type": "code",
   "execution_count": 34,
   "id": "440fdc23",
   "metadata": {},
   "outputs": [
    {
     "data": {
      "text/plain": [
       "<AxesSubplot:xlabel='action', ylabel='count'>"
      ]
     },
     "execution_count": 34,
     "metadata": {},
     "output_type": "execute_result"
    },
    {
     "data": {
      "image/png": "[encoded data removed]",
      "text/plain": [
       "<Figure size 432x288 with 1 Axes>"
      ]
     },
     "metadata": {
      "needs_background": "light"
     },
     "output_type": "display_data"
    }
   ],
   "source": [
    "sns.countplot(x='action', data=df3, \n",
    "edgecolor=sns.color_palette(\"dark\", 25),\n",
    "#               color=['red', 'blue', 'green']\n",
    "              \n",
    "             )\n"
   ]
  },
  {
   "cell_type": "code",
   "execution_count": null,
   "id": "cc5f8dcc",
   "metadata": {},
   "outputs": [],
   "source": []
  }
 ],
 "metadata": {
  "kernelspec": {
   "display_name": "Python 3",
   "language": "python",
   "name": "python3"
  },
  "language_info": {
   "codemirror_mode": {
    "name": "ipython",
    "version": 3
   },
   "file_extension": ".py",
   "mimetype": "text/x-python",
   "name": "python",
   "nbconvert_exporter": "python",
   "pygments_lexer": "ipython3",
   "version": "3.8.8"
  }
 },
 "nbformat": 4,
 "nbformat_minor": 5
}
